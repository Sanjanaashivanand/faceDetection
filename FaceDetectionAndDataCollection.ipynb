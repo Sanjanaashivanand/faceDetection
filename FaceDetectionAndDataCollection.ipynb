{
 "cells": [
  {
   "cell_type": "code",
   "execution_count": 4,
   "metadata": {},
   "outputs": [
    {
     "name": "stdout",
     "output_type": "stream",
     "text": [
      "\n",
      " Enter user's name:  Sanjana\n",
      "\n",
      " Initializing face capture. Look the camera and wait ...\n",
      "The user data already exists\n",
      "Images capture unsuccessfull \n",
      " Please try again\n"
     ]
    }
   ],
   "source": [
    "import numpy as np\n",
    "import cv2\n",
    "import os\n",
    "\n",
    "cam = cv2.VideoCapture(0)\n",
    "cam.set(3,640)\n",
    "cam.set(4,480)\n",
    "\n",
    "face_classifier = cv2.CascadeClassifier('haarcascade_frontalface_default.xml')\n",
    "\n",
    "face_id = input(\"\\n Enter user's name:  \")\n",
    "print(\"\\n Initializing face capture. Look the camera and wait ...\")\n",
    "\n",
    "count = -1\n",
    "\n",
    "while True:\n",
    "    ret, img = cam.read()\n",
    "    img = cv2.flip(img,1)\n",
    "    \n",
    "    gray = cv2.cvtColor(img, cv2.COLOR_BGR2GRAY)\n",
    "    faces = face_classifier.detectMultiScale(gray, 1.3, 5)\n",
    "    \n",
    "    for (x,y,w,h) in faces:\n",
    "        cv2.rectangle(img, (x,y), (x+w,y+h), (255,0,0), 2) \n",
    "        text = \"Capturing Image \" + str(count)\n",
    "        cv2.putText(img,text,(50, 50), cv2.FONT_HERSHEY_COMPLEX, 1, (0,255,0), 2)\n",
    "        count += 1\n",
    "        \n",
    "        #writing into a folder\n",
    "        path = \"./Images/\" + str(face_id)\n",
    "        if not os.path.exists(path) and count==0:\n",
    "            os.mkdir(path,mode=0o666)\n",
    "            cv2.imwrite(path + \"/\" + str(count) + \".jpg\", gray[y:y+h,x:x+w])\n",
    "        elif os.path.exists(path) and count==0:\n",
    "            flag = 1\n",
    "            print(\"The user data already exists\")\n",
    "            break\n",
    "        else:\n",
    "            cv2.imwrite(path + \"/\" + str(count) + \".jpg\", gray[y:y+h,x:x+w])\n",
    "        \n",
    "        cv2.imshow('image', img)\n",
    "        \n",
    "        \n",
    "    k = cv2.waitKey(30) & 0xff\n",
    "    if k == 27 or count==30: # press 'ESC' to quit \n",
    "        break\n",
    "        \n",
    "if flag==1:\n",
    "    print(\"Images capture unsuccessfull \\n Please try again\")\n",
    "else:\n",
    "    print(\"Images captured successfully\")  \n",
    "    \n",
    "cam.release()\n",
    "cv2.destroyAllWindows()"
   ]
  },
  {
   "cell_type": "code",
   "execution_count": null,
   "metadata": {},
   "outputs": [],
   "source": []
  }
 ],
 "metadata": {
  "kernelspec": {
   "display_name": "Python 3",
   "language": "python",
   "name": "python3"
  },
  "language_info": {
   "codemirror_mode": {
    "name": "ipython",
    "version": 3
   },
   "file_extension": ".py",
   "mimetype": "text/x-python",
   "name": "python",
   "nbconvert_exporter": "python",
   "pygments_lexer": "ipython3",
   "version": "3.8.5"
  }
 },
 "nbformat": 4,
 "nbformat_minor": 4
}
