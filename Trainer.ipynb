{
 "cells": [
  {
   "cell_type": "code",
   "execution_count": 72,
   "metadata": {},
   "outputs": [],
   "source": [
    "import cv2\n",
    "import numpy as np\n",
    "from PIL import Image\n",
    "import os\n",
    "from collections import defaultdict"
   ]
  },
  {
   "cell_type": "code",
   "execution_count": 73,
   "metadata": {},
   "outputs": [],
   "source": [
    "#Path of the dataset\n",
    "path = \"./Images\"\n",
    "recognizer = cv2.face.LBPHFaceRecognizer_create()\n",
    "detector = cv2.CascadeClassifier(\"haarcascade_frontalface_default.xml\");"
   ]
  },
  {
   "cell_type": "code",
   "execution_count": 74,
   "metadata": {},
   "outputs": [],
   "source": [
    "#Function to get the images and label data\n",
    "def getImagesAndLabels(path):\n",
    "    Labels = os.listdir(path)\n",
    "    imagesPaths = []\n",
    "    faceSamples=[]\n",
    "    imagePathsInTheSF = []\n",
    "    ids = []\n",
    "    for sub_folder in Labels:\n",
    "        if sub_folder!=\".DS_Store\":\n",
    "            path = path + \"/\" + sub_folder\n",
    "            #Load all the image paths\n",
    "            imagePathsInTheSF = [os.path.join(path,f) for f in os.listdir(path)]   \n",
    "            imagesPaths.extend(imagePathsInTheSF)\n",
    "        path = \"./Images\"\n",
    "        \n",
    "    for imagePath in imagesPaths:\n",
    "        PIL_img = Image.open(imagePath).convert('L') \n",
    "        img_numpy = np.array(PIL_img,'uint8')\n",
    "        id = os.path.split(imagePath)[0].split(\"/\")[-1]\n",
    "        faces = detector.detectMultiScale(img_numpy)\n",
    "        for (x,y,w,h) in faces:\n",
    "            faceSamples.append(img_numpy[y:y+h,x:x+w])\n",
    "            ids.append(id)\n",
    "    return faceSamples,ids"
   ]
  },
  {
   "cell_type": "code",
   "execution_count": 76,
   "metadata": {},
   "outputs": [
    {
     "name": "stdout",
     "output_type": "stream",
     "text": [
      "\n",
      " [INFO] Training faces. It will take a few seconds. Wait ...\n",
      "\n",
      " [INFO] 2 faces trained. Exiting Program\n"
     ]
    }
   ],
   "source": [
    "print (\"\\n [INFO] Training faces. It will take a few seconds. Wait ...\")\n",
    "\n",
    "Faces,Labels = getImagesAndLabels(path)\n",
    "\n",
    "#Converting ids into string as it only accepts string\n",
    "temp = defaultdict(lambda: len(temp))\n",
    "ids = [temp[ele] for ele in Labels]\n",
    "\n",
    "#training\n",
    "recognizer.train(Faces, np.array(ids))\n",
    "recognizer.write('trainer/trainer.yml') \n",
    "\n",
    "print(\"\\n [INFO] {0} faces trained. Exiting Program\".format(len(np.unique(Labels))))"
   ]
  },
  {
   "cell_type": "code",
   "execution_count": null,
   "metadata": {},
   "outputs": [],
   "source": []
  }
 ],
 "metadata": {
  "kernelspec": {
   "display_name": "Python 3",
   "language": "python",
   "name": "python3"
  },
  "language_info": {
   "codemirror_mode": {
    "name": "ipython",
    "version": 3
   },
   "file_extension": ".py",
   "mimetype": "text/x-python",
   "name": "python",
   "nbconvert_exporter": "python",
   "pygments_lexer": "ipython3",
   "version": "3.8.5"
  }
 },
 "nbformat": 4,
 "nbformat_minor": 4
}
